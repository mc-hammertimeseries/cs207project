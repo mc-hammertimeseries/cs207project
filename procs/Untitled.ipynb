{
 "cells": [
  {
   "cell_type": "code",
   "execution_count": 6,
   "metadata": {
    "collapsed": false
   },
   "outputs": [],
   "source": [
    "from fft import ccorr\n",
    "import numpy as np\n",
    "import numpy.fft as nfft"
   ]
  },
  {
   "cell_type": "code",
   "execution_count": 10,
   "metadata": {
    "collapsed": false
   },
   "outputs": [],
   "source": [
    "a = np.linspace(1, 0, 50, dtype=complex)\n",
    "b = np.arange(0, 50, dtype=complex)\n",
    "out_arr = np.empty(50, dtype=complex)\n",
    "\n",
    "ccorr(a, b, out_arr)"
   ]
  },
  {
   "cell_type": "code",
   "execution_count": 11,
   "metadata": {
    "collapsed": false
   },
   "outputs": [
    {
     "data": {
      "text/plain": [
       "array([ 400.00000000 -9.58292402e-16j,  425.00000000 +1.66608996e-15j,\n",
       "        448.97959184 +6.04216218e-15j,  471.93877551 -1.48074517e-15j,\n",
       "        493.87755102 +2.57948996e-15j,  514.79591837 -7.51715017e-15j,\n",
       "        534.69387755 -8.78919381e-15j,  553.57142857 +8.72318322e-15j,\n",
       "        571.42857143 -2.48435065e-15j,  588.26530612 +1.07963900e-14j,\n",
       "        604.08163265 +8.07879632e-15j,  618.87755102 +1.02823318e-14j,\n",
       "        632.65306122 +6.23571282e-15j,  645.40816327 -3.78821562e-15j,\n",
       "        657.14285714 +4.21872595e-15j,  667.85714286 -1.19391192e-14j,\n",
       "        677.55102041 +7.48153758e-15j,  686.22448980 +2.12323187e-15j,\n",
       "        693.87755102 +7.29025103e-15j,  700.51020408 +9.04851633e-15j,\n",
       "        706.12244898 +5.29371306e-15j,  710.71428571 -1.45173412e-14j,\n",
       "        714.28571429 -1.06093119e-14j,  716.83673469 +7.33705039e-15j,\n",
       "        718.36734694 -5.15707952e-15j,  718.87755102 +2.80433109e-15j,\n",
       "        718.36734694 +1.08471435e-14j,  716.83673469 -1.68900248e-14j,\n",
       "        714.28571429 -4.02751485e-16j,  710.71428571 -1.88176149e-15j,\n",
       "        706.12244898 -5.39803840e-15j,  700.51020408 +2.78227606e-15j,\n",
       "        693.87755102 -6.28440756e-15j,  686.22448980 +3.01214608e-15j,\n",
       "        677.55102041 -2.99462736e-15j,  667.85714286 +1.34960825e-14j,\n",
       "        657.14285714 +4.48029634e-15j,  645.40816327 +1.43056383e-15j,\n",
       "        632.65306122 -1.42372290e-15j,  618.87755102 -1.25735129e-14j,\n",
       "        604.08163265 -9.22082094e-15j,  588.26530612 -4.09419658e-16j,\n",
       "        571.42857143 +3.56277496e-15j,  553.57142857 -1.11527775e-15j,\n",
       "        534.69387755 +2.88225701e-15j,  514.79591837 +5.36049807e-15j,\n",
       "        493.87755102 -1.24910175e-14j,  471.93877551 +2.75422691e-15j,\n",
       "        448.97959184 -4.03249546e-15j,  425.00000000 -8.25110092e-15j])"
      ]
     },
     "execution_count": 11,
     "metadata": {},
     "output_type": "execute_result"
    }
   ],
   "source": [
    "out_arr"
   ]
  },
  {
   "cell_type": "code",
   "execution_count": 16,
   "metadata": {
    "collapsed": false
   },
   "outputs": [
    {
     "data": {
      "text/plain": [
       "True"
      ]
     },
     "execution_count": 16,
     "metadata": {},
     "output_type": "execute_result"
    }
   ],
   "source": [
    "np.isclose(718.87755102040819, out_arr[np.argmax(out_arr)])"
   ]
  },
  {
   "cell_type": "code",
   "execution_count": 8,
   "metadata": {
    "collapsed": false
   },
   "outputs": [
    {
     "data": {
      "text/plain": [
       "array([1, 9, 8, 7, 6, 5, 4, 3, 2, 1])"
      ]
     },
     "execution_count": 8,
     "metadata": {},
     "output_type": "execute_result"
    }
   ],
   "source": [
    "a[[1] + list(range(len(a)-1, 0, -1))]"
   ]
  },
  {
   "cell_type": "code",
   "execution_count": 15,
   "metadata": {
    "collapsed": false
   },
   "outputs": [
    {
     "data": {
      "text/plain": [
       "False"
      ]
     },
     "execution_count": 15,
     "metadata": {},
     "output_type": "execute_result"
    }
   ],
   "source": [
    "np.isclose(1, 1.1)"
   ]
  },
  {
   "cell_type": "code",
   "execution_count": null,
   "metadata": {
    "collapsed": true
   },
   "outputs": [],
   "source": []
  }
 ],
 "metadata": {
  "kernelspec": {
   "display_name": "Python 3",
   "language": "python",
   "name": "python3"
  },
  "language_info": {
   "codemirror_mode": {
    "name": "ipython",
    "version": 3
   },
   "file_extension": ".py",
   "mimetype": "text/x-python",
   "name": "python",
   "nbconvert_exporter": "python",
   "pygments_lexer": "ipython3",
   "version": "3.5.1"
  }
 },
 "nbformat": 4,
 "nbformat_minor": 0
}
