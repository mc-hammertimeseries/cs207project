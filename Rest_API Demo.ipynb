{
 "cells": [
  {
   "cell_type": "code",
   "execution_count": 1,
   "metadata": {
    "collapsed": false
   },
   "outputs": [],
   "source": [
    "import requests\n",
    "import numpy as np\n",
    "from scipy.stats import norm\n",
    "import timeseries as ts"
   ]
  },
  {
   "cell_type": "code",
   "execution_count": 2,
   "metadata": {
    "collapsed": false
   },
   "outputs": [
    {
     "data": {
      "text/plain": [
       "{'Payload': [], 'Status': 'OK'}"
      ]
     },
     "execution_count": 2,
     "metadata": {},
     "output_type": "execute_result"
    }
   ],
   "source": [
    "# get\n",
    "requests.get(\"http://localhost:5000/api/timeseries\").json()"
   ]
  },
  {
   "cell_type": "code",
   "execution_count": 3,
   "metadata": {
    "collapsed": false
   },
   "outputs": [],
   "source": [
    "# taken from go_client.py\n",
    "# insert via rest api\n",
    "def tsmaker(m, s, j):\n",
    "    \"returns metadata and a time series in the shape of a jittered normal\"\n",
    "    meta={}\n",
    "    meta['order'] = int(np.random.choice([-5, -4, -3, -2, -1, 0, 1, 2, 3, 4, 5]))\n",
    "    meta['blarg'] = int(np.random.choice([1, 2]))\n",
    "    t = np.arange(0.0, 1.0, 0.01)\n",
    "    v = norm.pdf(t, m, s) + j*np.random.randn(100)\n",
    "    return meta, ts.TimeSeries(t, v)\n",
    "\n",
    "mus = np.random.uniform(low=0.0, high=1.0, size=50)\n",
    "sigs = np.random.uniform(low=0.05, high=0.4, size=50)\n",
    "jits = np.random.uniform(low=0.05, high=0.2, size=50)\n",
    "for i, m, s, j in zip(range(50), mus, sigs, jits):\n",
    "    meta, tsrs = tsmaker(m, s, j)\n",
    "    # the primary key format is ts-1, ts-2, etc\n",
    "    pk = \"ts-{}\".format(i)\n",
    "    meta['vp'] = False # augment metadata with a boolean asking if this is a  VP.\n",
    "    meta['pk'] = pk\n",
    "    requests.post(\"http://localhost:5000/api/timeseries\", json={\"pk\":pk, \"t\":list(tsrs.times()), \"v\":list(tsrs.values())})\n",
    "    requests.post(\"http://localhost:5000/api/timeseries/upsert\", json=meta)"
   ]
  },
  {
   "cell_type": "code",
   "execution_count": 4,
   "metadata": {
    "collapsed": false
   },
   "outputs": [
    {
     "data": {
      "text/plain": [
       "{'Payload': [['ts-0', {'blarg': 1, 'order': 4, 'pk': 'ts-0', 'vp': False}]],\n",
       " 'Status': 'OK'}"
      ]
     },
     "execution_count": 4,
     "metadata": {},
     "output_type": "execute_result"
    }
   ],
   "source": [
    "# get ts-0\n",
    "requests.get(\"http://localhost:5000/api/timeseries?field1=pk&value1=ts-0\").json()"
   ]
  },
  {
   "cell_type": "code",
   "execution_count": 5,
   "metadata": {
    "collapsed": false
   },
   "outputs": [
    {
     "data": {
      "text/plain": [
       "{'Payload': None, 'Status': 'OK'}"
      ]
     },
     "execution_count": 5,
     "metadata": {},
     "output_type": "execute_result"
    }
   ],
   "source": [
    "# commit to disk\n",
    "requests.post(\"http://localhost:5000/api/commit\").json()"
   ]
  },
  {
   "cell_type": "code",
   "execution_count": 6,
   "metadata": {
    "collapsed": false
   },
   "outputs": [
    {
     "data": {
      "text/plain": [
       "{'Payload': None, 'Status': 'OK'}"
      ]
     },
     "execution_count": 6,
     "metadata": {},
     "output_type": "execute_result"
    }
   ],
   "source": [
    "# delete ts\n",
    "requests.delete(\"http://localhost:5000/api/timeseries?pk=ts-0\").json()"
   ]
  },
  {
   "cell_type": "code",
   "execution_count": 7,
   "metadata": {
    "collapsed": false
   },
   "outputs": [
    {
     "data": {
      "text/plain": [
       "{'Payload': [], 'Status': 'OK'}"
      ]
     },
     "execution_count": 7,
     "metadata": {},
     "output_type": "execute_result"
    }
   ],
   "source": [
    "# see that it's gone\n",
    "requests.get(\"http://localhost:5000/api/timeseries?field1=pk&value1=ts-0\").json()"
   ]
  },
  {
   "cell_type": "code",
   "execution_count": 8,
   "metadata": {
    "collapsed": false
   },
   "outputs": [
    {
     "data": {
      "text/plain": [
       "{'Payload': None, 'Status': 'OK'}"
      ]
     },
     "execution_count": 8,
     "metadata": {},
     "output_type": "execute_result"
    }
   ],
   "source": [
    "# oops, want to rollback\n",
    "requests.post(\"http://localhost:5000/api/rollback\").json()"
   ]
  },
  {
   "cell_type": "code",
   "execution_count": 9,
   "metadata": {
    "collapsed": false
   },
   "outputs": [
    {
     "data": {
      "text/plain": [
       "{'Payload': [['ts-0', {'blarg': 1, 'order': 4, 'pk': 'ts-0', 'vp': False}]],\n",
       " 'Status': 'OK'}"
      ]
     },
     "execution_count": 9,
     "metadata": {},
     "output_type": "execute_result"
    }
   ],
   "source": [
    "# get back ts\n",
    "requests.get(\"http://localhost:5000/api/timeseries?field1=pk&value1=ts-0\").json()"
   ]
  },
  {
   "cell_type": "code",
   "execution_count": 10,
   "metadata": {
    "collapsed": false
   },
   "outputs": [
    {
     "data": {
      "text/plain": [
       "{'Payload': [['ts-0', {'mean': 1.0126144909822037, 'std': 1.1121798459260237}],\n",
       "  ['ts-1', {'mean': 1.009356191928828, 'std': 1.820963904271178}],\n",
       "  ['ts-10', {'mean': 1.0067317047470374, 'std': 1.5831466334251727}],\n",
       "  ['ts-11', {'mean': 1.0006644988977624, 'std': 1.2758834081658386}],\n",
       "  ['ts-12', {'mean': 0.993129876641768, 'std': 1.9511960338676577}],\n",
       "  ['ts-13', {'mean': 0.9892923408907304, 'std': 0.9289356857562812}],\n",
       "  ['ts-14', {'mean': 0.9887912674789371, 'std': 0.8900866532200021}],\n",
       "  ['ts-15', {'mean': 0.9835486015632569, 'std': 1.0931256747941671}],\n",
       "  ['ts-16', {'mean': 0.9792311626020498, 'std': 1.5670267047496198}],\n",
       "  ['ts-17', {'mean': 0.9760702178357612, 'std': 0.9769949230005534}],\n",
       "  ['ts-18', {'mean': 0.9646987868749026, 'std': 1.3547280455620658}],\n",
       "  ['ts-19', {'mean': 0.9632287919664444, 'std': 0.5088563357523552}],\n",
       "  ['ts-2', {'mean': 0.9527951983960402, 'std': 0.8516322894133211}],\n",
       "  ['ts-20', {'mean': 0.9487062916186098, 'std': 0.669304568104767}],\n",
       "  ['ts-21', {'mean': 0.945383746526704, 'std': 0.4889119246682293}],\n",
       "  ['ts-22', {'mean': 0.9425327770664107, 'std': 0.8737927162411502}],\n",
       "  ['ts-23', {'mean': 0.9402055417902104, 'std': 0.7376561386531686}],\n",
       "  ['ts-24', {'mean': 0.9344844759553952, 'std': 1.9847469673474065}],\n",
       "  ['ts-25', {'mean': 0.9311761156750265, 'std': 0.551510189952781}],\n",
       "  ['ts-26', {'mean': 0.9233900476185856, 'std': 0.7192906260418461}],\n",
       "  ['ts-27', {'mean': 0.9193852892478442, 'std': 0.38522228197884284}],\n",
       "  ['ts-28', {'mean': 0.9147152803040396, 'std': 0.6517582770072212}],\n",
       "  ['ts-29', {'mean': 0.9124269320462283, 'std': 0.8463382452538615}],\n",
       "  ['ts-3', {'mean': 0.9029107580970891, 'std': 0.48928167577644865}],\n",
       "  ['ts-30', {'mean': 0.882789521797704, 'std': 0.4619074516890052}],\n",
       "  ['ts-31', {'mean': 0.8690559660073984, 'std': 0.3653365229589871}],\n",
       "  ['ts-32', {'mean': 0.8510310464035419, 'std': 0.45353085572000296}],\n",
       "  ['ts-33', {'mean': 0.8324412688541232, 'std': 2.0159625484630674}],\n",
       "  ['ts-34', {'mean': 0.8200633642934634, 'std': 0.7050859449161296}],\n",
       "  ['ts-35', {'mean': 0.7991901538850132, 'std': 0.9539664580385375}],\n",
       "  ['ts-36', {'mean': 0.7813826859327548, 'std': 0.19581555736248854}],\n",
       "  ['ts-37', {'mean': 0.7795557102749696, 'std': 0.829147370623045}],\n",
       "  ['ts-38', {'mean': 0.7747384648988627, 'std': 0.24465838528786302}],\n",
       "  ['ts-39', {'mean': 0.7633794512165842, 'std': 0.27329412943320097}],\n",
       "  ['ts-4', {'mean': 0.7257494667128418, 'std': 0.3163411076662767}],\n",
       "  ['ts-40', {'mean': 0.6978392909394955, 'std': 0.45707088895936937}],\n",
       "  ['ts-41', {'mean': 0.6929041601713821, 'std': 0.8864990303784628}],\n",
       "  ['ts-42', {'mean': 0.6853356231926173, 'std': 0.5123486762718585}],\n",
       "  ['ts-43', {'mean': 0.6817396149911107, 'std': 1.0592722555676826}],\n",
       "  ['ts-44', {'mean': 0.6720900164307473, 'std': 0.3397506847799751}],\n",
       "  ['ts-45', {'mean': 0.6406541071165208, 'std': 0.3638895594932268}],\n",
       "  ['ts-46', {'mean': 0.6113532948184189, 'std': 0.5928876871491358}],\n",
       "  ['ts-47', {'mean': 0.5968838231654395, 'std': 0.6900014583839934}],\n",
       "  ['ts-48', {'mean': 0.5966995386270563, 'std': 0.42135538400129263}],\n",
       "  ['ts-49', {'mean': 0.583256598503874, 'std': 0.38101560988126265}],\n",
       "  ['ts-5', {'mean': 0.5550622674639224, 'std': 0.659740909749514}],\n",
       "  ['ts-6', {'mean': 0.5483562007864183, 'std': 0.5235873598005889}],\n",
       "  ['ts-7', {'mean': 0.5467322344807274, 'std': 0.3557092825090436}],\n",
       "  ['ts-8', {'mean': 0.5202254364943812, 'std': 0.481653830877021}],\n",
       "  ['ts-9', {'mean': 0.5041775635635086, 'std': 0.5618242743519191}]],\n",
       " 'Status': 'OK'}"
      ]
     },
     "execution_count": 10,
     "metadata": {},
     "output_type": "execute_result"
    }
   ],
   "source": [
    "# get mean of timeseries in decreasing order\n",
    "requests.get(\"http://localhost:5000/api/timeseries/augmented?proc=stats&target=mean&target=std&sort_by=mean&sort_by_increasing=false\").json()"
   ]
  },
  {
   "cell_type": "code",
   "execution_count": 11,
   "metadata": {
    "collapsed": false,
    "scrolled": false
   },
   "outputs": [
    {
     "data": {
      "text/plain": [
       "{'Payload': [['ts-18',\n",
       "   {'d_vp-1': 0.0,\n",
       "    'd_vp-2': 1.4141665932765386,\n",
       "    'd_vp-3': 1.4130253087403384,\n",
       "    'd_vp-4': 1.4140495543154987}],\n",
       "  ['ts-19',\n",
       "   {'d_vp-1': 1.155479606144914,\n",
       "    'd_vp-2': 1.4142124668453937,\n",
       "    'd_vp-3': 1.4138972191867392,\n",
       "    'd_vp-4': 1.414075539386752}],\n",
       "  ['ts-41',\n",
       "   {'d_vp-1': 1.2514583225641192,\n",
       "    'd_vp-2': 1.4138895446973747,\n",
       "    'd_vp-3': 1.411053102782802,\n",
       "    'd_vp-4': 1.4134999777822574}],\n",
       "  ['ts-43',\n",
       "   {'d_vp-1': 1.3050622993922183,\n",
       "    'd_vp-2': 1.4118524052958692,\n",
       "    'd_vp-3': 1.4106486386507386,\n",
       "    'd_vp-4': 1.4141721445381412}],\n",
       "  ['ts-29',\n",
       "   {'d_vp-1': 1.3726722855824858,\n",
       "    'd_vp-2': 1.4134751430294623,\n",
       "    'd_vp-3': 1.4110668858996902,\n",
       "    'd_vp-4': 1.4141533894378098}],\n",
       "  ['ts-1',\n",
       "   {'d_vp-1': 1.3914232906770092,\n",
       "    'd_vp-2': 1.4142127103646858,\n",
       "    'd_vp-3': 1.4081425724479986,\n",
       "    'd_vp-4': 1.4067319614715414}],\n",
       "  ['ts-42',\n",
       "   {'d_vp-1': 1.3935226998030505,\n",
       "    'd_vp-2': 1.372898500773963,\n",
       "    'd_vp-3': 1.414158024845793,\n",
       "    'd_vp-4': 1.4142131600315049}],\n",
       "  ['ts-36',\n",
       "   {'d_vp-1': 1.394818327884094,\n",
       "    'd_vp-2': 1.4142109898102782,\n",
       "    'd_vp-3': 1.4008431274664948,\n",
       "    'd_vp-4': 1.4133240936963996}],\n",
       "  ['ts-38',\n",
       "   {'d_vp-1': 1.3996335952595127,\n",
       "    'd_vp-2': 1.4115120775771894,\n",
       "    'd_vp-3': 1.4136642351875142,\n",
       "    'd_vp-4': 1.4142083691038634}],\n",
       "  ['ts-2',\n",
       "   {'d_vp-1': 1.4062253552267858,\n",
       "    'd_vp-2': 1.4139031589738544,\n",
       "    'd_vp-3': 1.4141044389356554,\n",
       "    'd_vp-4': 1.4142074592611096}],\n",
       "  ['ts-16',\n",
       "   {'d_vp-1': 1.4090052134644626,\n",
       "    'd_vp-2': 1.3503589713602238,\n",
       "    'd_vp-3': 1.4141731052340034,\n",
       "    'd_vp-4': 1.4142134267407007}],\n",
       "  ['ts-40',\n",
       "   {'d_vp-1': 1.4094744062576237,\n",
       "    'd_vp-2': 1.4142134236988078,\n",
       "    'd_vp-3': 1.3712531129700662,\n",
       "    'd_vp-4': 1.4083844529571563}],\n",
       "  ['ts-5',\n",
       "   {'d_vp-1': 1.4109968494373457,\n",
       "    'd_vp-2': 1.4142117192428836,\n",
       "    'd_vp-3': 1.409296488151324,\n",
       "    'd_vp-4': 1.4141197339016685}],\n",
       "  ['ts-13',\n",
       "   {'d_vp-1': 1.411338113851077,\n",
       "    'd_vp-2': 1.4142135337370407,\n",
       "    'd_vp-3': 1.41335694185762,\n",
       "    'd_vp-4': 1.4130258268371416}],\n",
       "  ['ts-30',\n",
       "   {'d_vp-1': 1.4119898628655434,\n",
       "    'd_vp-2': 1.4142135592094849,\n",
       "    'd_vp-3': 1.4142100763260554,\n",
       "    'd_vp-4': 1.41420386734673}],\n",
       "  ['ts-23',\n",
       "   {'d_vp-1': 1.4130253087403384,\n",
       "    'd_vp-2': 1.4142135408395853,\n",
       "    'd_vp-3': 0.0,\n",
       "    'd_vp-4': 1.4135079946568272}],\n",
       "  ['ts-39',\n",
       "   {'d_vp-1': 1.4134616471452524,\n",
       "    'd_vp-2': 1.411813310652096,\n",
       "    'd_vp-3': 1.4142133242883719,\n",
       "    'd_vp-4': 1.4142135605033497}],\n",
       "  ['ts-37',\n",
       "   {'d_vp-1': 1.4135096871633634,\n",
       "    'd_vp-2': 0.9591153734814895,\n",
       "    'd_vp-3': 1.414212927045273,\n",
       "    'd_vp-4': 1.4142135607966175}],\n",
       "  ['ts-27',\n",
       "   {'d_vp-1': 1.4135801003853115,\n",
       "    'd_vp-2': 1.4142135593439822,\n",
       "    'd_vp-3': 1.4142133546176554,\n",
       "    'd_vp-4': 1.414212050102837}],\n",
       "  ['ts-35',\n",
       "   {'d_vp-1': 1.4139118991728195,\n",
       "    'd_vp-2': 1.414213559034296,\n",
       "    'd_vp-3': 1.4074328136874585,\n",
       "    'd_vp-4': 1.4137331067846968}],\n",
       "  ['ts-24',\n",
       "   {'d_vp-1': 1.4139608849336212,\n",
       "    'd_vp-2': 1.4142135589221492,\n",
       "    'd_vp-3': 1.4098729573722308,\n",
       "    'd_vp-4': 1.4139122298087896}],\n",
       "  ['ts-22',\n",
       "   {'d_vp-1': 1.4140182074422836,\n",
       "    'd_vp-2': 1.4142135617808798,\n",
       "    'd_vp-3': 1.4114204342221097,\n",
       "    'd_vp-4': 1.414077824525181}],\n",
       "  ['ts-32',\n",
       "   {'d_vp-1': 1.4140495543154987,\n",
       "    'd_vp-2': 1.4142135623218222,\n",
       "    'd_vp-3': 1.4135079946568272,\n",
       "    'd_vp-4': 0.0}],\n",
       "  ['ts-44',\n",
       "   {'d_vp-1': 1.4141655809057938,\n",
       "    'd_vp-2': 1.414063669388794,\n",
       "    'd_vp-3': 1.4142071915651333,\n",
       "    'd_vp-4': 1.414213527215445}],\n",
       "  ['ts-10',\n",
       "   {'d_vp-1': 1.4141665932765386,\n",
       "    'd_vp-2': 0.0,\n",
       "    'd_vp-3': 1.4142135408395853,\n",
       "    'd_vp-4': 1.4142135623218222}],\n",
       "  ['ts-8',\n",
       "   {'d_vp-1': 1.4141856604836407,\n",
       "    'd_vp-2': 1.4140335532167292,\n",
       "    'd_vp-3': 1.4142135475162154,\n",
       "    'd_vp-4': 1.414213562234946}],\n",
       "  ['ts-0',\n",
       "   {'d_vp-1': 1.4142006155833475,\n",
       "    'd_vp-2': 1.4142135620543634,\n",
       "    'd_vp-3': 1.4140344669639595,\n",
       "    'd_vp-4': 1.41420425594287}],\n",
       "  ['ts-4',\n",
       "   {'d_vp-1': 1.4142007479834227,\n",
       "    'd_vp-2': 1.414207604458749,\n",
       "    'd_vp-3': 1.4142135540953413,\n",
       "    'd_vp-4': 1.4142135621731613}],\n",
       "  ['ts-49',\n",
       "   {'d_vp-1': 1.4142061763844245,\n",
       "    'd_vp-2': 1.4142046026469979,\n",
       "    'd_vp-3': 1.4142135587102578,\n",
       "    'd_vp-4': 1.4142135623277308}],\n",
       "  ['ts-34',\n",
       "   {'d_vp-1': 1.4142067603466761,\n",
       "    'd_vp-2': 1.4142135623676413,\n",
       "    'd_vp-3': 1.4142135464757866,\n",
       "    'd_vp-4': 1.4142132912473455}],\n",
       "  ['ts-21',\n",
       "   {'d_vp-1': 1.4142112727702358,\n",
       "    'd_vp-2': 1.4142135623634393,\n",
       "    'd_vp-3': 1.414213552582435,\n",
       "    'd_vp-4': 1.4142135366749988}],\n",
       "  ['ts-48',\n",
       "   {'d_vp-1': 1.4142132369801688,\n",
       "    'd_vp-2': 1.4141870800939036,\n",
       "    'd_vp-3': 1.4142135451289173,\n",
       "    'd_vp-4': 1.4142135622587022}],\n",
       "  ['ts-46',\n",
       "   {'d_vp-1': 1.4142132763209716,\n",
       "    'd_vp-2': 1.2485030360167517,\n",
       "    'd_vp-3': 1.4142135622701864,\n",
       "    'd_vp-4': 1.4142135623730212}],\n",
       "  ['ts-33',\n",
       "   {'d_vp-1': 1.4142134035173641,\n",
       "    'd_vp-2': 1.414213562372825,\n",
       "    'd_vp-3': 1.4140607821626048,\n",
       "    'd_vp-4': 1.4141769356970726}],\n",
       "  ['ts-9',\n",
       "   {'d_vp-1': 1.414213423475457,\n",
       "    'd_vp-2': 1.284737942284406,\n",
       "    'd_vp-3': 1.4142135623285215,\n",
       "    'd_vp-4': 1.4142135623730585}],\n",
       "  ['ts-12',\n",
       "   {'d_vp-1': 1.4142134537817768,\n",
       "    'd_vp-2': 1.4142129214513233,\n",
       "    'd_vp-3': 1.4142134799034263,\n",
       "    'd_vp-4': 1.4142135619972485}],\n",
       "  ['ts-20',\n",
       "   {'d_vp-1': 1.4142135479009317,\n",
       "    'd_vp-2': 1.4142135582376893,\n",
       "    'd_vp-3': 1.4142135023872737,\n",
       "    'd_vp-4': 1.4142135621132397}],\n",
       "  ['ts-17',\n",
       "   {'d_vp-1': 1.41421355218923,\n",
       "    'd_vp-2': 1.4132310685849425,\n",
       "    'd_vp-3': 1.414213562369058,\n",
       "    'd_vp-4': 1.4142135623730874}],\n",
       "  ['ts-25',\n",
       "   {'d_vp-1': 1.4142135562760483,\n",
       "    'd_vp-2': 1.4142135623730945,\n",
       "    'd_vp-3': 1.414213559876613,\n",
       "    'd_vp-4': 1.414209036151134}],\n",
       "  ['ts-6',\n",
       "   {'d_vp-1': 1.4142135618904854,\n",
       "    'd_vp-2': 1.4142135617380491,\n",
       "    'd_vp-3': 1.4142135487064742,\n",
       "    'd_vp-4': 1.414213562288862}],\n",
       "  ['ts-28',\n",
       "   {'d_vp-1': 1.4142135620744438,\n",
       "    'd_vp-2': 1.414213562373095,\n",
       "    'd_vp-3': 1.4142135194295482,\n",
       "    'd_vp-4': 1.4142047610653186}],\n",
       "  ['ts-7',\n",
       "   {'d_vp-1': 1.4142135622311673,\n",
       "    'd_vp-2': 1.4142135623727186,\n",
       "    'd_vp-3': 1.4142135609056465,\n",
       "    'd_vp-4': 1.414213562355629}],\n",
       "  ['ts-45',\n",
       "   {'d_vp-1': 1.4142135622888699,\n",
       "    'd_vp-2': 1.4112079644471598,\n",
       "    'd_vp-3': 1.4142135623730638,\n",
       "    'd_vp-4': 1.4142135623730951}],\n",
       "  ['ts-15',\n",
       "   {'d_vp-1': 1.4142135623645589,\n",
       "    'd_vp-2': 1.4142135623730951,\n",
       "    'd_vp-3': 1.414213557806045,\n",
       "    'd_vp-4': 1.4142135597140724}],\n",
       "  ['ts-26',\n",
       "   {'d_vp-1': 1.4142135623711078,\n",
       "    'd_vp-2': 1.4139070551805986,\n",
       "    'd_vp-3': 1.4142135623730936,\n",
       "    'd_vp-4': 1.4142135623730951}],\n",
       "  ['ts-3',\n",
       "   {'d_vp-1': 1.4142135623719392,\n",
       "    'd_vp-2': 1.4142135623730934,\n",
       "    'd_vp-3': 1.4142135623575618,\n",
       "    'd_vp-4': 1.414213562372658}],\n",
       "  ['ts-14',\n",
       "   {'d_vp-1': 1.4142135623721912,\n",
       "    'd_vp-2': 1.4142135623730945,\n",
       "    'd_vp-3': 1.4142135618221412,\n",
       "    'd_vp-4': 1.4142135623469672}],\n",
       "  ['ts-47',\n",
       "   {'d_vp-1': 1.414213562373052,\n",
       "    'd_vp-2': 1.4142135623730951,\n",
       "    'd_vp-3': 1.414213562309689,\n",
       "    'd_vp-4': 1.41421356235886}],\n",
       "  ['ts-11',\n",
       "   {'d_vp-1': 1.4142135623730911,\n",
       "    'd_vp-2': 1.4142120757237093,\n",
       "    'd_vp-3': 1.4142135623730951,\n",
       "    'd_vp-4': 1.4142135623730951}],\n",
       "  ['ts-31',\n",
       "   {'d_vp-1': 1.414213562373095,\n",
       "    'd_vp-2': 1.4142135469003527,\n",
       "    'd_vp-3': 1.4142135623730951,\n",
       "    'd_vp-4': 1.4142135623730951}]],\n",
       " 'Status': 'OK'}"
      ]
     },
     "execution_count": 11,
     "metadata": {},
     "output_type": "execute_result"
    }
   ],
   "source": [
    "# get similarity specifying five timeseries as vantage points\n",
    "requests.get(\"http://localhost:5000/api/timeseries/similarity?pk1=ts-18&pk2=ts-10&pk3=ts-23&pk4=ts-32&pk5=ts-15&sort_by=d_vp-1\").json()"
   ]
  },
  {
   "cell_type": "code",
   "execution_count": 12,
   "metadata": {
    "collapsed": false
   },
   "outputs": [
    {
     "data": {
      "text/plain": [
       "{'Payload': None, 'Status': 'OK'}"
      ]
     },
     "execution_count": 12,
     "metadata": {},
     "output_type": "execute_result"
    }
   ],
   "source": [
    "# delete all timeseries and commit\n",
    "for i in range(50):\n",
    "    pk = \"ts-{}\".format(i)\n",
    "    requests.delete(\"http://localhost:5000/api/timeseries?pk={}\".format(pk))\n",
    "requests.post(\"http://localhost:5000/api/commit\").json()"
   ]
  },
  {
   "cell_type": "code",
   "execution_count": 13,
   "metadata": {
    "collapsed": false
   },
   "outputs": [
    {
     "data": {
      "text/plain": [
       "{'Payload': [], 'Status': 'OK'}"
      ]
     },
     "execution_count": 13,
     "metadata": {},
     "output_type": "execute_result"
    }
   ],
   "source": [
    "# get all\n",
    "requests.get(\"http://localhost:5000/api/timeseries\").json()"
   ]
  },
  {
   "cell_type": "code",
   "execution_count": null,
   "metadata": {
    "collapsed": true
   },
   "outputs": [],
   "source": []
  }
 ],
 "metadata": {
  "kernelspec": {
   "display_name": "Python 3",
   "language": "python",
   "name": "python3"
  },
  "language_info": {
   "codemirror_mode": {
    "name": "ipython",
    "version": 3
   },
   "file_extension": ".py",
   "mimetype": "text/x-python",
   "name": "python",
   "nbconvert_exporter": "python",
   "pygments_lexer": "ipython3",
   "version": "3.5.1"
  }
 },
 "nbformat": 4,
 "nbformat_minor": 0
}
