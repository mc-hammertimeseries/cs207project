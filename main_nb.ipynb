{
 "cells": [
  {
   "cell_type": "code",
   "execution_count": 155,
   "metadata": {
    "collapsed": false
   },
   "outputs": [
    {
     "name": "stdout",
     "output_type": "stream",
     "text": [
      "Overwriting timeseries.py\n"
     ]
    }
   ],
   "source": [
    "%%file timeseries.py\n",
    "import itertools\n",
    "import reprlib\n",
    "\n",
    "class TimeSeries:\n",
    "    \"\"\"\n",
    "    A class to store time series data. Supports time series data of any type, including mixed type.\n",
    "    Supports all sequence operations (__getitem__, __setitem__, __len__).\n",
    "    \n",
    "    Attributes\n",
    "    ----------\n",
    "    \n",
    "    Parameters\n",
    "    ----------\n",
    "    data : list\n",
    "        a sequence of items of any type, including mixed type\n",
    "    \"\"\"\n",
    "    \n",
    "    def __init__(self, data):\n",
    "        self._length = len(data)\n",
    "        self._data = [None] * self._length\n",
    "        for idx, value in enumerate(data):\n",
    "            self._data[idx] = value\n",
    "        \n",
    "    def __len__(self):\n",
    "        return self._length\n",
    "    \n",
    "    def __getitem__(self, idx):\n",
    "        return self._data[idx]\n",
    "    \n",
    "    def __setitem__(self, idx, value):\n",
    "        self._data[idx] = value\n",
    "        \n",
    "    def __repr__(self):\n",
    "        class_name = type(self).__name__\n",
    "        components = reprlib.repr(list(itertools.islice(self._data, 0, self._length)))\n",
    "        components = components[components.find('['):]\n",
    "        return \"{}(data={})\".format(class_name, components)\n",
    "        \n",
    "        \n",
    "    def __str__(self):\n",
    "        \"\"\"\n",
    "        Only prints the first six elements of the time series.\n",
    "        \"\"\"\n",
    "        class_name = type(self).__name__\n",
    "        components = reprlib.repr(list(itertools.islice(self._data, 0, self._length)))\n",
    "        components = components[components.find('['):]\n",
    "        return \"{} with {} elements: {}\".format(class_name, self._length, components)"
   ]
  }
 ],
 "metadata": {
  "kernelspec": {
   "display_name": "Python 3",
   "language": "python",
   "name": "python3"
  },
  "language_info": {
   "codemirror_mode": {
    "name": "ipython",
    "version": 3
   },
   "file_extension": ".py",
   "mimetype": "text/x-python",
   "name": "python",
   "nbconvert_exporter": "python",
   "pygments_lexer": "ipython3",
   "version": "3.5.1"
  }
 },
 "nbformat": 4,
 "nbformat_minor": 0
}
