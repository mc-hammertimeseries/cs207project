{
 "cells": [
  {
   "cell_type": "code",
   "execution_count": 1,
   "metadata": {
    "collapsed": false
   },
   "outputs": [],
   "source": [
    "import requests"
   ]
  },
  {
   "cell_type": "code",
   "execution_count": 155,
   "metadata": {
    "collapsed": false
   },
   "outputs": [
    {
     "ename": "AssertionError",
     "evalue": "",
     "output_type": "error",
     "traceback": [
      "\u001b[0;31m---------------------------------------------------------------------------\u001b[0m",
      "\u001b[0;31mAssertionError\u001b[0m                            Traceback (most recent call last)",
      "\u001b[0;32m<ipython-input-155-b17b56364364>\u001b[0m in \u001b[0;36m<module>\u001b[0;34m()\u001b[0m\n\u001b[1;32m     40\u001b[0m \u001b[0;31m# get timeseries\u001b[0m\u001b[0;34m\u001b[0m\u001b[0;34m\u001b[0m\u001b[0m\n\u001b[1;32m     41\u001b[0m \u001b[0mpayload\u001b[0m \u001b[0;34m=\u001b[0m \u001b[0mrequests\u001b[0m\u001b[0;34m.\u001b[0m\u001b[0mget\u001b[0m\u001b[0;34m(\u001b[0m\u001b[0;34m\"http://localhost:5000/api/timeseries?field1=pk&value1=1&fields=blarg&fields=order\"\u001b[0m\u001b[0;34m)\u001b[0m\u001b[0;34m.\u001b[0m\u001b[0mjson\u001b[0m\u001b[0;34m(\u001b[0m\u001b[0;34m)\u001b[0m\u001b[0;34m[\u001b[0m\u001b[0;34m'Payload'\u001b[0m\u001b[0;34m]\u001b[0m\u001b[0;34m\u001b[0m\u001b[0m\n\u001b[0;32m---> 42\u001b[0;31m \u001b[0;32massert\u001b[0m \u001b[0mpayload\u001b[0m \u001b[0;34m==\u001b[0m \u001b[0;34m[\u001b[0m\u001b[0;34m[\u001b[0m\u001b[0;34m'1'\u001b[0m\u001b[0;34m,\u001b[0m \u001b[0;34m{\u001b[0m\u001b[0;34m'blarg'\u001b[0m\u001b[0;34m:\u001b[0m \u001b[0;36m123\u001b[0m\u001b[0;34m,\u001b[0m \u001b[0;34m'order'\u001b[0m\u001b[0;34m:\u001b[0m \u001b[0;36m1\u001b[0m\u001b[0;34m}\u001b[0m\u001b[0;34m]\u001b[0m\u001b[0;34m]\u001b[0m\u001b[0;34m\u001b[0m\u001b[0m\n\u001b[0m\u001b[1;32m     43\u001b[0m \u001b[0;34m\u001b[0m\u001b[0m\n\u001b[1;32m     44\u001b[0m \u001b[0mpayload\u001b[0m \u001b[0;34m=\u001b[0m \u001b[0mrequests\u001b[0m\u001b[0;34m.\u001b[0m\u001b[0mget\u001b[0m\u001b[0;34m(\u001b[0m\u001b[0;34m\"http://localhost:5000/api/timeseries?field1=order&value1=1&dtype1=int\"\u001b[0m\u001b[0;34m)\u001b[0m\u001b[0;34m.\u001b[0m\u001b[0mjson\u001b[0m\u001b[0;34m(\u001b[0m\u001b[0;34m)\u001b[0m\u001b[0;34m[\u001b[0m\u001b[0;34m'Payload'\u001b[0m\u001b[0;34m]\u001b[0m\u001b[0;34m\u001b[0m\u001b[0m\n",
      "\u001b[0;31mAssertionError\u001b[0m: "
     ]
    }
   ],
   "source": [
    "# test pk error\n",
    "resp = requests.post(\"http://localhost:5000/api/timeseries\", json = {'t':list(range(1,10)), 'v':list(range(101,110))}).json()\n",
    "# test incorrect inputs\n",
    "assert resp == {'reason': 'Missing pk data required.'}\n",
    "resp = requests.post(\"http://localhost:5000/api/timeseries\", json = {'pk':1, 'v':list(range(101,110))}).json()\n",
    "assert resp == {'reason': 'Missing times data required.'}\n",
    "resp = requests.post(\"http://localhost:5000/api/timeseries\", json = {'pk':1, 't':list(range(101,110))}).json()\n",
    "assert resp == {'reason': 'Missing values data required.'}\n",
    "resp = requests.post(\"http://localhost:5000/api/timeseries\").json()\n",
    "assert resp == {'reason': 'Missing data required.'}\n",
    "resp = requests.post(\"http://localhost:5000/api/timeseries\", json = {'t':list(range(1,10)), 'v':list(range(101,110)), 'pk':1}).json()\n",
    "assert resp == {'reason': 'pk must be a string.'}\n",
    "resp = requests.post(\"http://localhost:5000/api/timeseries/upsert\", json = {'pk':1, 'blarg':123, 'order':1}).json()\n",
    "assert resp == {'reason': 'pk must be a string.'}\n",
    "resp = requests.post(\"http://localhost:5000/api/timeseries\", json = {'t':\"wrong\", 'v':\"wrong\", 'pk':\"1\"}).json()\n",
    "assert resp == {'reason': \"could not convert string to float: 'wrong'\"}\n",
    "\n",
    "# insert timeseries with pk = 1\n",
    "status = requests.post(\"http://localhost:5000/api/timeseries\", json = {'t':list(range(1,10)), 'v':list(range(101,110)), 'pk':\"1\"}).json()['Status']\n",
    "assert status == 'OK'\n",
    "\n",
    "# rollback and make sure nothing is added\n",
    "status = requests.post(\"http://localhost:5000/api/rollback\").json()['Status']\n",
    "assert status == 'OK'\n",
    "\n",
    "resp = requests.get(\"http://localhost:5000/api/timeseries\").json()['Payload']\n",
    "assert resp == []\n",
    "\n",
    "# insert timeseries with pk = 1\n",
    "status = requests.post(\"http://localhost:5000/api/timeseries\", json = {'t':list(range(1,10)), 'v':list(range(101,110)), 'pk':\"1\"}).json()['Status']\n",
    "assert status == 'OK'\n",
    "\n",
    "# upsert timeseries\n",
    "status = requests.post(\"http://localhost:5000/api/timeseries/upsert\", json = {'pk':\"1\", 'blarg':123, 'order':1}).json()['Status']\n",
    "assert status == 'OK'\n",
    "\n",
    "status = requests.post(\"http://localhost:5000/api/commit\").json()['Status']\n",
    "assert status == 'OK'\n",
    "\n",
    "# get timeseries\n",
    "payload = requests.get(\"http://localhost:5000/api/timeseries?field1=pk&value1=1&fields=blarg&fields=order\").json()['Payload']\n",
    "assert payload == [['1', {'blarg': 123, 'order': 1}]]\n",
    "\n",
    "payload = requests.get(\"http://localhost:5000/api/timeseries?field1=order&value1=1&dtype1=int\").json()['Payload']\n",
    "assert payload == [['1', {'blarg': 123, 'order': 1, 'pk': '1'}]]"
   ]
  },
  {
   "cell_type": "code",
   "execution_count": 156,
   "metadata": {
    "collapsed": false
   },
   "outputs": [
    {
     "data": {
      "text/plain": [
       "{'Payload': [], 'Status': 'OK'}"
      ]
     },
     "execution_count": 156,
     "metadata": {},
     "output_type": "execute_result"
    }
   ],
   "source": [
    "requests.get(\"http://localhost:5000/api/timeseries?field1=pk&value1=1&fields=blarg&fields=order\").json()"
   ]
  },
  {
   "cell_type": "code",
   "execution_count": 158,
   "metadata": {
    "collapsed": false
   },
   "outputs": [
    {
     "data": {
      "text/plain": [
       "{'Payload': [], 'Status': 'OK'}"
      ]
     },
     "execution_count": 158,
     "metadata": {},
     "output_type": "execute_result"
    }
   ],
   "source": [
    "requests.get(\"http://localhost:5000/api/timeseries?\").json()"
   ]
  },
  {
   "cell_type": "code",
   "execution_count": null,
   "metadata": {
    "collapsed": true
   },
   "outputs": [],
   "source": []
  }
 ],
 "metadata": {
  "kernelspec": {
   "display_name": "Python 3",
   "language": "python",
   "name": "python3"
  },
  "language_info": {
   "codemirror_mode": {
    "name": "ipython",
    "version": 3
   },
   "file_extension": ".py",
   "mimetype": "text/x-python",
   "name": "python",
   "nbconvert_exporter": "python",
   "pygments_lexer": "ipython3",
   "version": "3.5.1"
  }
 },
 "nbformat": 4,
 "nbformat_minor": 0
}
