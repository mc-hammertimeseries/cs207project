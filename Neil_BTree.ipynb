{
 "cells": [
  {
   "cell_type": "code",
   "execution_count": 547,
   "metadata": {
    "collapsed": false
   },
   "outputs": [
    {
     "name": "stdout",
     "output_type": "stream",
     "text": [
      "done\n"
     ]
    }
   ],
   "source": [
    "\"\"\"\n",
    "DISCLAIMER: This code has been adapted from https://gist.github.com/teepark/572734\n",
    "\"\"\"\n",
    "\n",
    "import bisect\n",
    "import itertools\n",
    "import operator\n",
    "\n",
    "\n",
    "class _BNode(object):\n",
    "    __slots__ = [\"tree\", \"contents\", \"children\"]\n",
    "\n",
    "    def __init__(self, tree, contents=None, children=None):\n",
    "        self.tree = tree\n",
    "        self.contents = contents or []\n",
    "        self.children = children or []\n",
    "        if self.children:\n",
    "            assert len(self.contents) + 1 == len(self.children), \\\n",
    "                    \"one more child than data item required\"\n",
    "\n",
    "    def __repr__(self):\n",
    "        name = getattr(self, \"children\", 0) and \"Branch\" or \"Leaf\"\n",
    "        return \"<%s %s>\" % (name, \", \".join(map(str, self.contents)))\n",
    "\n",
    "    def lateral(self, parent, parent_index, dest, dest_index):\n",
    "        if parent_index > dest_index:\n",
    "            dest.contents.append(parent.contents[dest_index])\n",
    "            parent.contents[dest_index] = self.contents.pop(0)\n",
    "            if self.children:\n",
    "                dest.children.append(self.children.pop(0))\n",
    "        else:\n",
    "            dest.contents.insert(0, parent.contents[parent_index])\n",
    "            parent.contents[parent_index] = self.contents.pop()\n",
    "            if self.children:\n",
    "                dest.children.insert(0, self.children.pop())\n",
    "\n",
    "    def shrink(self, ancestors):\n",
    "        parent = None\n",
    "\n",
    "        if ancestors:\n",
    "            parent, parent_index = ancestors.pop()\n",
    "            # try to lend to the left neighboring sibling\n",
    "            if parent_index:\n",
    "                left_sib = parent.children[parent_index - 1]\n",
    "                if len(left_sib.contents) < self.tree.order:\n",
    "                    self.lateral(\n",
    "                            parent, parent_index, left_sib, parent_index - 1)\n",
    "                    return\n",
    "\n",
    "            # try the right neighbor\n",
    "            if parent_index + 1 < len(parent.children):\n",
    "                right_sib = parent.children[parent_index + 1]\n",
    "                if len(right_sib.contents) < self.tree.order:\n",
    "                    self.lateral(\n",
    "                            parent, parent_index, right_sib, parent_index + 1)\n",
    "                    return\n",
    "\n",
    "        center = len(self.contents) // 2\n",
    "        sibling, push = self.split()\n",
    "\n",
    "        if not parent:\n",
    "            parent, parent_index = self.tree.BRANCH(\n",
    "                    self.tree, children=[self]), 0\n",
    "            self.tree._root = parent\n",
    "\n",
    "        # pass the median up to the parent\n",
    "        parent.contents.insert(parent_index, push)\n",
    "        parent.children.insert(parent_index + 1, sibling)\n",
    "        if len(parent.contents) > parent.tree.order:\n",
    "            parent.shrink(ancestors)\n",
    "\n",
    "    def grow(self, ancestors):\n",
    "        parent, parent_index = ancestors.pop()\n",
    "\n",
    "        minimum = self.tree.order // 2\n",
    "        left_sib = right_sib = None\n",
    "\n",
    "        # try to borrow from the right sibling\n",
    "        if parent_index + 1 < len(parent.children):\n",
    "            right_sib = parent.children[parent_index + 1]\n",
    "            if len(right_sib.contents) > minimum:\n",
    "                right_sib.lateral(parent, parent_index + 1, self, parent_index)\n",
    "                return\n",
    "\n",
    "        # try to borrow from the left sibling\n",
    "        if parent_index:\n",
    "            left_sib = parent.children[parent_index - 1]\n",
    "            if len(left_sib.contents) > minimum:\n",
    "                left_sib.lateral(parent, parent_index - 1, self, parent_index)\n",
    "                return\n",
    "\n",
    "        # consolidate with a sibling - try left first\n",
    "        if left_sib:\n",
    "            left_sib.contents.append(parent.contents[parent_index - 1])\n",
    "            left_sib.contents.extend(self.contents)\n",
    "            if self.children:\n",
    "                left_sib.children.extend(self.children)\n",
    "            parent.contents.pop(parent_index - 1)\n",
    "            parent.children.pop(parent_index)\n",
    "        else:\n",
    "            self.contents.append(parent.contents[parent_index])\n",
    "            self.contents.extend(right_sib.contents)\n",
    "            if self.children:\n",
    "                self.children.extend(right_sib.children)\n",
    "            parent.contents.pop(parent_index)\n",
    "            parent.children.pop(parent_index + 1)\n",
    "\n",
    "        if len(parent.contents) < minimum:\n",
    "            if ancestors:\n",
    "                # parent is not the root\n",
    "                parent.grow(ancestors)\n",
    "            elif not parent.contents:\n",
    "                # parent is root, and its now empty\n",
    "                self.tree._root = left_sib or self\n",
    "\n",
    "    def split(self):\n",
    "        center = len(self.contents) // 2\n",
    "        median = self.contents[center]\n",
    "        sibling = type(self)(\n",
    "                self.tree,\n",
    "                self.contents[center + 1:],\n",
    "                self.children[center + 1:])\n",
    "        self.contents = self.contents[:center]\n",
    "        self.children = self.children[:center + 1]\n",
    "        return sibling, median\n",
    "\n",
    "    def insert(self, index, item, ancestors):\n",
    "        self.contents.insert(index, item)\n",
    "        if len(self.contents) > self.tree.order:\n",
    "            self.shrink(ancestors)\n",
    "\n",
    "    def remove(self, index, ancestors):\n",
    "        minimum = self.tree.order // 2\n",
    "\n",
    "        if self.children:\n",
    "            # try promoting from the right subtree first,\n",
    "            # but only if it won't have to resize\n",
    "            additional_ancestors = [(self, index + 1)]\n",
    "            descendent = self.children[index + 1]\n",
    "            while descendent.children:\n",
    "                additional_ancestors.append((descendent, 0))\n",
    "                descendent = descendent.children[0]\n",
    "            if len(descendent.contents) > minimum:\n",
    "                ancestors.extend(additional_ancestors)\n",
    "                self.contents[index] = descendent.contents[0]\n",
    "                descendent.remove(0, ancestors)\n",
    "                return\n",
    "\n",
    "            # fall back to the left child\n",
    "            additional_ancestors = [(self, index)]\n",
    "            descendent = self.children[index]\n",
    "            while descendent.children:\n",
    "                additional_ancestors.append(\n",
    "                        (descendent, len(descendent.children) - 1))\n",
    "                descendent = descendent.children[-1]\n",
    "            ancestors.extend(additional_ancestors)\n",
    "            self.contents[index] = descendent.contents[-1]\n",
    "            descendent.remove(len(descendent.children) - 1, ancestors)\n",
    "        else:\n",
    "            self.contents.pop(index)\n",
    "            if len(self.contents) < minimum and ancestors:\n",
    "                self.grow(ancestors)\n",
    "\n",
    "\n",
    "class _BPlusLeaf(_BNode):\n",
    "    __slots__ = [\"tree\", \"contents\", \"data\", \"next\"]\n",
    "\n",
    "    def __init__(self, tree, contents=None, data=None, next=None):\n",
    "        self.tree = tree\n",
    "        self.contents = contents or []\n",
    "        self.data = data or []\n",
    "        self.next = next\n",
    "        assert len(self.contents) == len(self.data), \"one data per key\"\n",
    "\n",
    "    def insert(self, index, key, data, ancestors):\n",
    "        self.contents.insert(index, key)\n",
    "        self.data.insert(index, data)\n",
    "\n",
    "        if len(self.contents) > self.tree.order:\n",
    "            self.shrink(ancestors)\n",
    "\n",
    "    def lateral(self, parent, parent_index, dest, dest_index):\n",
    "        if parent_index > dest_index:\n",
    "            dest.contents.append(self.contents.pop(0))\n",
    "            dest.data.append(self.data.pop(0))\n",
    "            parent.contents[dest_index] = self.contents[0]\n",
    "        else:\n",
    "            dest.contents.insert(0, self.contents.pop())\n",
    "            dest.data.insert(0, self.data.pop())\n",
    "            parent.contents[parent_index] = dest.contents[0]\n",
    "\n",
    "    def split(self):\n",
    "        center = len(self.contents) // 2\n",
    "        median = self.contents[center - 1]\n",
    "        sibling = type(self)(\n",
    "                self.tree,\n",
    "                self.contents[center:],\n",
    "                self.data[center:],\n",
    "                self.next)\n",
    "        self.contents = self.contents[:center]\n",
    "        self.data = self.data[:center]\n",
    "        self.next = sibling\n",
    "        return sibling, sibling.contents[0]\n",
    "\n",
    "    def remove(self, index, ancestors):\n",
    "        minimum = self.tree.order // 2\n",
    "        if index >= len(self.contents):\n",
    "            self, index = self.next, 0\n",
    "\n",
    "        key = self.contents[index]\n",
    "\n",
    "        # if any leaf that could accept the key can do so\n",
    "        # without any rebalancing necessary, then go that route\n",
    "        current = self\n",
    "        while current is not None and current.contents[0] == key:\n",
    "            if len(current.contents) > minimum:\n",
    "                if current.contents[0] == key:\n",
    "                    index = 0\n",
    "                else:\n",
    "                    index = bisect.bisect_left(current.contents, key)\n",
    "                current.contents.pop(index)\n",
    "                current.data.pop(index)\n",
    "                return\n",
    "            current = current.next\n",
    "\n",
    "        self.grow(ancestors)\n",
    "\n",
    "    def grow(self, ancestors):\n",
    "        minimum = self.tree.order // 2\n",
    "        parent, parent_index = ancestors.pop()\n",
    "        left_sib = right_sib = None\n",
    "\n",
    "        # try borrowing from a neighbor - try right first\n",
    "        if parent_index + 1 < len(parent.children):\n",
    "            right_sib = parent.children[parent_index + 1]\n",
    "            if len(right_sib.contents) > minimum:\n",
    "                right_sib.lateral(parent, parent_index + 1, self, parent_index)\n",
    "                return\n",
    "\n",
    "        # fallback to left\n",
    "        if parent_index:\n",
    "            left_sib = parent.children[parent_index - 1]\n",
    "            if len(left_sib.contents) > minimum:\n",
    "                left_sib.lateral(parent, parent_index - 1, self, parent_index)\n",
    "                return\n",
    "\n",
    "        # join with a neighbor - try left first\n",
    "        if left_sib:\n",
    "            left_sib.contents.extend(self.contents)\n",
    "            left_sib.data.extend(self.data)\n",
    "            parent.remove(parent_index - 1, ancestors)\n",
    "            return\n",
    "\n",
    "        # fallback to right\n",
    "        self.contents.extend(right_sib.contents)\n",
    "        self.data.extend(right_sib.data)\n",
    "        parent.remove(parent_index, ancestors)\n",
    "\n",
    "\n",
    "class BTree(object):\n",
    "    BRANCH = LEAF = _BNode\n",
    "\n",
    "    def __init__(self, order):\n",
    "        self.order = order\n",
    "        self._root = self._bottom = self.LEAF(self)\n",
    "\n",
    "    def _path_to(self, item):\n",
    "        current = self._root\n",
    "        ancestry = []\n",
    "\n",
    "        while getattr(current, \"children\", None):\n",
    "            index = bisect.bisect_left(current.contents, item)\n",
    "            ancestry.append((current, index))\n",
    "            if index < len(current.contents) \\\n",
    "                    and current.contents[index] == item:\n",
    "                return ancestry\n",
    "            current = current.children[index]\n",
    "\n",
    "        index = bisect.bisect_left(current.contents, item)\n",
    "        ancestry.append((current, index))\n",
    "        present = index < len(current.contents)\n",
    "        present = present and current.contents[index] == item\n",
    "\n",
    "        return ancestry\n",
    "\n",
    "    def _present(self, item, ancestors):\n",
    "        last, index = ancestors[-1]\n",
    "        return index < len(last.contents) and last.contents[index] == item\n",
    "\n",
    "    def insert(self, item):\n",
    "        current = self._root\n",
    "        ancestors = self._path_to(item)\n",
    "        node, index = ancestors[-1]\n",
    "        while getattr(node, \"children\", None):\n",
    "            node = node.children[index]\n",
    "            index = bisect.bisect_left(node.contents, item)\n",
    "            ancestors.append((node, index))\n",
    "        node, index = ancestors.pop()\n",
    "        node.insert(index, item, ancestors)\n",
    "\n",
    "    def remove(self, item):\n",
    "        current = self._root\n",
    "        ancestors = self._path_to(item)\n",
    "\n",
    "        if self._present(item, ancestors):\n",
    "            node, index = ancestors.pop()\n",
    "            node.remove(index, ancestors)\n",
    "        else:\n",
    "            raise ValueError(\"%r not in %s\" % (item, self.__class__.__name__))\n",
    "\n",
    "    def __contains__(self, item):\n",
    "        return self._present(item, self._path_to(item))\n",
    "\n",
    "    def __iter__(self):\n",
    "        def _recurse(node):\n",
    "            if node.children:\n",
    "                for child, item in zip(node.children, node.contents):\n",
    "                    for child_item in _recurse(child):\n",
    "                        yield child_item\n",
    "                    yield item\n",
    "                for child_item in _recurse(node.children[-1]):\n",
    "                    yield child_item\n",
    "            else:\n",
    "                for item in node.contents:\n",
    "                    yield item\n",
    "\n",
    "        for item in _recurse(self._root):\n",
    "            yield item\n",
    "\n",
    "    def __repr__(self):\n",
    "        def recurse(node, accum, depth):\n",
    "            accum.append((\"  \" * depth) + repr(node))\n",
    "            for node in getattr(node, \"children\", []):\n",
    "                recurse(node, accum, depth + 1)\n",
    "\n",
    "        accum = []\n",
    "        recurse(self._root, accum, 0)\n",
    "        return \"\\n\".join(accum)\n",
    "\n",
    "    @classmethod\n",
    "    def bulkload(cls, items, order):\n",
    "        tree = object.__new__(cls)\n",
    "        tree.order = order\n",
    "\n",
    "        leaves = tree._build_bulkloaded_leaves(items)\n",
    "        tree._build_bulkloaded_branches(leaves)\n",
    "\n",
    "        return tree\n",
    "\n",
    "    def _build_bulkloaded_leaves(self, items):\n",
    "        minimum = self.order // 2\n",
    "        leaves, seps = [[]], []\n",
    "\n",
    "        for item in items:\n",
    "            if len(leaves[-1]) < self.order:\n",
    "                leaves[-1].append(item)\n",
    "            else:\n",
    "                seps.append(item)\n",
    "                leaves.append([])\n",
    "\n",
    "        if len(leaves[-1]) < minimum and seps:\n",
    "            last_two = leaves[-2] + [seps.pop()] + leaves[-1]\n",
    "            leaves[-2] = last_two[:minimum]\n",
    "            leaves[-1] = last_two[minimum + 1:]\n",
    "            seps.append(last_two[minimum])\n",
    "\n",
    "        return [self.LEAF(self, contents=node) for node in leaves], seps\n",
    "\n",
    "    def _build_bulkloaded_branches(self, leaves):\n",
    "        leaves, seps = leaves\n",
    "        minimum = self.order // 2\n",
    "        levels = [leaves]\n",
    "\n",
    "        while len(seps) > self.order + 1:\n",
    "            items, nodes, seps = seps, [[]], []\n",
    "\n",
    "            for item in items:\n",
    "                if len(nodes[-1]) < self.order:\n",
    "                    nodes[-1].append(item)\n",
    "                else:\n",
    "                    seps.append(item)\n",
    "                    nodes.append([])\n",
    "\n",
    "            if len(nodes[-1]) < minimum and seps:\n",
    "                last_two = nodes[-2] + [seps.pop()] + nodes[-1]\n",
    "                nodes[-2] = last_two[:minimum]\n",
    "                nodes[-1] = last_two[minimum + 1:]\n",
    "                seps.append(last_two[minimum])\n",
    "\n",
    "            offset = 0\n",
    "            for i, node in enumerate(nodes):\n",
    "                children = levels[-1][offset:offset + len(node) + 1]\n",
    "                nodes[i] = self.BRANCH(self, contents=node, children=children)\n",
    "                offset += len(node) + 1\n",
    "\n",
    "            levels.append(nodes)\n",
    "\n",
    "        self._root = self.BRANCH(self, contents=seps, children=levels[-1])\n",
    "\n",
    "\n",
    "class BPlusTree(BTree):\n",
    "    LEAF = _BPlusLeaf\n",
    "\n",
    "    def _get(self, key):\n",
    "        node, index = self._path_to(key)[-1]\n",
    "\n",
    "        if index == len(node.contents):\n",
    "            if node.next:\n",
    "                node, index = node.next, 0\n",
    "            else:\n",
    "                return\n",
    "\n",
    "        while node.contents[index] == key:\n",
    "            yield node.data[index]\n",
    "            index += 1\n",
    "            if index == len(node.contents):\n",
    "                if node.next:\n",
    "                    node, index = node.next, 0\n",
    "                else:\n",
    "                    return\n",
    "\n",
    "    def _path_to(self, item):\n",
    "        path = super(BPlusTree, self)._path_to(item)\n",
    "        node, index = path[-1]\n",
    "        while hasattr(node, \"children\"):\n",
    "            node = node.children[index]\n",
    "            index = bisect.bisect_left(node.contents, item)\n",
    "            path.append((node, index))\n",
    "        return path\n",
    "\n",
    "    def get(self, key, default=None):\n",
    "        try:\n",
    "            return next(self._get(key))\n",
    "        except StopIteration:\n",
    "            return default\n",
    "    \n",
    "    def get_range(self, op, key):\n",
    "        results = []\n",
    "        # get leaf and index in leaf\n",
    "        a,ix = self._path_to(key)[-1]\n",
    "        if op == '==':\n",
    "            return self.get(key)\n",
    "        if op in ['>=','>']:\n",
    "            # if index is 5, go to next leaf \n",
    "            if ix == self.order:\n",
    "                a = a.next\n",
    "                ix = 0\n",
    "            try:\n",
    "                key_ = a.contents[ix]\n",
    "            # if we are over the bounds\n",
    "            except AttributeError: \n",
    "                return None\n",
    "            # work from key to the end of the leaf\n",
    "            ix_ = a.contents.index(key_)\n",
    "            results.extend(a.data[ix_:])\n",
    "            a = a.next\n",
    "            # work from start of next leaf to end of tree \n",
    "            while a:  \n",
    "                results.extend(a.data)\n",
    "                a = a.next\n",
    "            if op == '>':\n",
    "                # exclude the first val if the key is in self.keys\n",
    "                if key in self.keys():\n",
    "                    return results[1:]\n",
    "        if op in ['<=','<']:\n",
    "            curr_leaf,_ = self._path_to(bpt.keys()[0])[-1]\n",
    "            key_leaf, idx = self._path_to(key)[-1]\n",
    "            if op == '<=' and key in bpt.keys():\n",
    "                idx += 1\n",
    "                if idx == self.order + 1:\n",
    "                    key_leaf = key_leaf.next\n",
    "                    idx = 1\n",
    "            results = []\n",
    "            while curr_leaf != key_leaf:\n",
    "                results.extend(curr_leaf.data)\n",
    "                curr_leaf = curr_leaf.next\n",
    "            results.extend(curr_leaf.data[:idx])\n",
    "        return results\n",
    "    \n",
    "    def getlist(self, key):\n",
    "        return list(self._get(key))\n",
    "\n",
    "    def insert(self, key, data):\n",
    "        path = self._path_to(key)\n",
    "        node, index = path.pop()\n",
    "        node.insert(index, key, data, path)\n",
    "\n",
    "    def remove(self, key):\n",
    "        path = self._path_to(key)\n",
    "        node, index = path.pop()\n",
    "        node.remove(index, path)\n",
    "\n",
    "    __getitem__ = get\n",
    "    __setitem__ = insert\n",
    "    __delitem__ = remove\n",
    "\n",
    "    def __contains__(self, key):\n",
    "        for item in self._get(key):\n",
    "            return True\n",
    "        return False\n",
    "\n",
    "    def iteritems(self):\n",
    "        node = self._root\n",
    "        while hasattr(node, \"children\"):\n",
    "            node = node.children[0]\n",
    "\n",
    "        while node:\n",
    "            for pair in zip(node.contents, node.data):\n",
    "                yield pair\n",
    "            node = node.next\n",
    "\n",
    "    def iterkeys(self):\n",
    "        return map(operator.itemgetter(0), self.iteritems())\n",
    "\n",
    "    def itervalues(self):\n",
    "        return map(operator.itemgetter(1), self.iteritems())\n",
    "\n",
    "    __iter__ = iterkeys\n",
    "\n",
    "    def items(self):\n",
    "        return list(self.iteritems())\n",
    "\n",
    "    def keys(self):\n",
    "        return list(self.iterkeys())\n",
    "\n",
    "    def values(self):\n",
    "        return list(self.itervalues())\n",
    "\n",
    "    def _build_bulkloaded_leaves(self, items):\n",
    "        minimum = self.order // 2\n",
    "        leaves, seps = [[]], []\n",
    "\n",
    "        for item in items:\n",
    "            if len(leaves[-1]) >= self.order:\n",
    "                seps.append(item)\n",
    "                leaves.append([])\n",
    "            leaves[-1].append(item)\n",
    "\n",
    "        if len(leaves[-1]) < minimum and seps:\n",
    "            last_two = leaves[-2] + leaves[-1]\n",
    "            leaves[-2] = last_two[:minimum]\n",
    "            leaves[-1] = last_two[minimum:]\n",
    "            seps.append(last_two[minimum])\n",
    "\n",
    "        leaves = [self.LEAF(\n",
    "                self,\n",
    "                contents=[p[0] for p in pairs],\n",
    "                data=[p[1] for p in pairs])\n",
    "            for pairs in leaves]\n",
    "\n",
    "        for i in xrange(len(leaves) - 1):\n",
    "            leaves[i].next = leaves[i + 1]\n",
    "\n",
    "        return leaves, [s[0] for s in seps]\n"
   ]
  },
  {
   "cell_type": "code",
   "execution_count": 576,
   "metadata": {
    "collapsed": false
   },
   "outputs": [],
   "source": [
    "bpt = BPlusTree(5)\n",
    "l = np.arange(0,2000,10)\n",
    "\n",
    "for item in l:\n",
    "    bpt.insert(item, [1,2,2,3])\n",
    "rs = bpt.get_range('<=',10)"
   ]
  },
  {
   "cell_type": "code",
   "execution_count": 577,
   "metadata": {
    "collapsed": false
   },
   "outputs": [
    {
     "data": {
      "text/plain": [
       "[1, 2, 2, 3, 1, 2, 2, 3]"
      ]
     },
     "execution_count": 577,
     "metadata": {},
     "output_type": "execute_result"
    }
   ],
   "source": [
    "[item for sublist in rs for item in sublist]"
   ]
  },
  {
   "cell_type": "code",
   "execution_count": 563,
   "metadata": {
    "collapsed": false
   },
   "outputs": [
    {
     "data": {
      "text/plain": [
       "[0, 10, 20, 30, 40]"
      ]
     },
     "execution_count": 563,
     "metadata": {},
     "output_type": "execute_result"
    }
   ],
   "source": [
    "a, idx = bpt._path_to(bpt.keys()[0])[-1]\n"
   ]
  },
  {
   "cell_type": "code",
   "execution_count": 546,
   "metadata": {
    "collapsed": false
   },
   "outputs": [
    {
     "name": "stdout",
     "output_type": "stream",
     "text": [
      "[0]\n"
     ]
    }
   ],
   "source": [
    "op='<'\n",
    "key=10\n",
    "curr_leaf,_ = bpt._path_to(bpt.keys()[0])[-1]\n",
    "key_leaf, idx = bpt._path_to(key)[-1]\n",
    "if op == '<=' and key in bpt.keys():\n",
    "    idx += 1\n",
    "    if idx == 6:\n",
    "        print(idx)\n",
    "        key_leaf = key_leaf.next\n",
    "        idx = 1\n",
    "results = []\n",
    "while curr_leaf != key_leaf:\n",
    "    results.extend(curr_leaf.data)\n",
    "    curr_leaf = curr_leaf.next\n",
    "results.extend(curr_leaf.data[:idx])\n",
    "print(results)"
   ]
  },
  {
   "cell_type": "code",
   "execution_count": 266,
   "metadata": {
    "collapsed": false
   },
   "outputs": [
    {
     "data": {
      "text/plain": [
       "[321,\n",
       " 331,\n",
       " 341,\n",
       " 301,\n",
       " 311,\n",
       " 321,\n",
       " 331,\n",
       " 341,\n",
       " 351,\n",
       " 361,\n",
       " 371,\n",
       " 381,\n",
       " 391,\n",
       " 401,\n",
       " 411,\n",
       " 421,\n",
       " 431,\n",
       " 441,\n",
       " 451,\n",
       " 461,\n",
       " 471,\n",
       " 481,\n",
       " 491,\n",
       " 501,\n",
       " 511,\n",
       " 521,\n",
       " 531,\n",
       " 541,\n",
       " 551,\n",
       " 561,\n",
       " 571,\n",
       " 581,\n",
       " 591,\n",
       " 601,\n",
       " 611,\n",
       " 621,\n",
       " 631,\n",
       " 641,\n",
       " 651,\n",
       " 661,\n",
       " 671,\n",
       " 681,\n",
       " 691,\n",
       " 701,\n",
       " 711,\n",
       " 721,\n",
       " 731,\n",
       " 741,\n",
       " 751,\n",
       " 761,\n",
       " 771,\n",
       " 781,\n",
       " 791,\n",
       " 801,\n",
       " 811,\n",
       " 821,\n",
       " 831,\n",
       " 841,\n",
       " 851,\n",
       " 861,\n",
       " 871,\n",
       " 881,\n",
       " 891,\n",
       " 901,\n",
       " 911,\n",
       " 921,\n",
       " 931,\n",
       " 941,\n",
       " 951,\n",
       " 961,\n",
       " 971,\n",
       " 981,\n",
       " 991,\n",
       " 1001,\n",
       " 1011,\n",
       " 1021,\n",
       " 1031,\n",
       " 1041,\n",
       " 1051,\n",
       " 1061,\n",
       " 1071,\n",
       " 1081,\n",
       " 1091,\n",
       " 1101,\n",
       " 1111,\n",
       " 1121,\n",
       " 1131,\n",
       " 1141,\n",
       " 1151,\n",
       " 1161,\n",
       " 1171,\n",
       " 1181,\n",
       " 1191,\n",
       " 1201,\n",
       " 1211,\n",
       " 1221,\n",
       " 1231,\n",
       " 1241,\n",
       " 1251,\n",
       " 1261,\n",
       " 1271,\n",
       " 1281,\n",
       " 1291,\n",
       " 1301,\n",
       " 1311,\n",
       " 1321,\n",
       " 1331,\n",
       " 1341,\n",
       " 1351,\n",
       " 1361,\n",
       " 1371,\n",
       " 1381,\n",
       " 1391,\n",
       " 1401,\n",
       " 1411,\n",
       " 1421,\n",
       " 1431,\n",
       " 1441,\n",
       " 1451,\n",
       " 1461,\n",
       " 1471,\n",
       " 1481,\n",
       " 1491,\n",
       " 1501,\n",
       " 1511,\n",
       " 1521,\n",
       " 1531,\n",
       " 1541,\n",
       " 1551,\n",
       " 1561,\n",
       " 1571,\n",
       " 1581,\n",
       " 1591,\n",
       " 1601,\n",
       " 1611,\n",
       " 1621,\n",
       " 1631,\n",
       " 1641,\n",
       " 1651,\n",
       " 1661,\n",
       " 1671,\n",
       " 1681,\n",
       " 1691,\n",
       " 1701,\n",
       " 1711,\n",
       " 1721,\n",
       " 1731,\n",
       " 1741,\n",
       " 1751,\n",
       " 1761,\n",
       " 1771,\n",
       " 1781,\n",
       " 1791,\n",
       " 1801,\n",
       " 1811,\n",
       " 1821,\n",
       " 1831,\n",
       " 1841,\n",
       " 1851,\n",
       " 1861,\n",
       " 1871,\n",
       " 1881,\n",
       " 1891,\n",
       " 1901,\n",
       " 1911,\n",
       " 1921,\n",
       " 1931,\n",
       " 1941,\n",
       " 1951,\n",
       " 1961,\n",
       " 1971,\n",
       " 1981,\n",
       " 1991]"
      ]
     },
     "execution_count": 266,
     "metadata": {},
     "output_type": "execute_result"
    }
   ],
   "source": [
    "# a = bpt.get_range(320,'>=')[-1][0]\n",
    "# results = []\n",
    "# if 300 not in a.contents:\n",
    "#     a = a.next\n",
    "# else:\n",
    "#     ix = a.contents.index(320)\n",
    "#     results.extend(a.data[ix:])\n",
    "# while a:  \n",
    "#     results.extend(a.data)\n",
    "#     a = a.next\n",
    "results"
   ]
  },
  {
   "cell_type": "code",
   "execution_count": 253,
   "metadata": {
    "collapsed": false
   },
   "outputs": [
    {
     "name": "stdout",
     "output_type": "stream",
     "text": [
      "None\n"
     ]
    }
   ],
   "source": [
    "b = bpt.get_range(1990,'>=')[-1][0]\n",
    "print( b.next)"
   ]
  },
  {
   "cell_type": "code",
   "execution_count": 80,
   "metadata": {
    "collapsed": false
   },
   "outputs": [],
   "source": [
    "import pickle\n",
    "with open('neil.pkl', 'w+b') as f:\n",
    "    pickle.dump(bpt, f)"
   ]
  },
  {
   "cell_type": "code",
   "execution_count": 81,
   "metadata": {
    "collapsed": false
   },
   "outputs": [],
   "source": [
    "with open('neil.pkl', 'r+b') as f:\n",
    "    b = pickle.load(f)"
   ]
  },
  {
   "cell_type": "code",
   "execution_count": 136,
   "metadata": {
    "collapsed": false
   },
   "outputs": [],
   "source": [
    "bpt.get(1).append(1)\n"
   ]
  },
  {
   "cell_type": "code",
   "execution_count": 84,
   "metadata": {
    "collapsed": true
   },
   "outputs": [],
   "source": [
    "    schema = {\n",
    "      'pk': {'type': 'str', 'index': None},  #will be indexed anyways\n",
    "      'ts': {'type': 'ts', 'index': None},\n",
    "      'order': {'type': 'int', 'index': 1},\n",
    "      'blarg': {'type': 'int', 'index': 1},\n",
    "      'useless': {'type': 'str', 'index': None},\n",
    "      'mean': {'type': 'float', 'index': 1},\n",
    "      'std': {'type': 'float', 'index': 1},\n",
    "      'vp': {'type': 'bool', 'index': 1}\n",
    "    }"
   ]
  },
  {
   "cell_type": "code",
   "execution_count": 116,
   "metadata": {
    "collapsed": false
   },
   "outputs": [
    {
     "data": {
      "text/plain": [
       "<Leaf 0, 0.2, 0.3, 1, 4>"
      ]
     },
     "execution_count": 116,
     "metadata": {},
     "output_type": "execute_result"
    }
   ],
   "source": [
    "bpt"
   ]
  },
  {
   "cell_type": "code",
   "execution_count": 101,
   "metadata": {
    "collapsed": true
   },
   "outputs": [],
   "source": [
    "import os"
   ]
  },
  {
   "cell_type": "code",
   "execution_count": 103,
   "metadata": {
    "collapsed": false
   },
   "outputs": [
    {
     "data": {
      "text/plain": [
       "False"
      ]
     },
     "execution_count": 103,
     "metadata": {},
     "output_type": "execute_result"
    }
   ],
   "source": [
    "os.path.isfile('neil.txta')"
   ]
  },
  {
   "cell_type": "code",
   "execution_count": 106,
   "metadata": {
    "collapsed": false
   },
   "outputs": [
    {
     "data": {
      "text/plain": [
       "True"
      ]
     },
     "execution_count": 106,
     "metadata": {},
     "output_type": "execute_result"
    }
   ],
   "source": [
    "isinstance('neil', str)"
   ]
  },
  {
   "cell_type": "code",
   "execution_count": 111,
   "metadata": {
    "collapsed": false
   },
   "outputs": [
    {
     "data": {
      "text/plain": [
       "True"
      ]
     },
     "execution_count": 111,
     "metadata": {},
     "output_type": "execute_result"
    }
   ],
   "source": [
    "import numbers\n",
    "isinstance(False,numbers.Number)"
   ]
  },
  {
   "cell_type": "code",
   "execution_count": 149,
   "metadata": {
    "collapsed": false
   },
   "outputs": [],
   "source": [
    "j = {'pk':'ts-1', 'ts': [[1,2,3],[3,4,4]], 'order': 1, 'blarg': '2'}"
   ]
  },
  {
   "cell_type": "code",
   "execution_count": 146,
   "metadata": {
    "collapsed": false
   },
   "outputs": [],
   "source": [
    "with open('j.t', 'w+') as f:\n",
    "    json.dump(j, f)"
   ]
  },
  {
   "cell_type": "code",
   "execution_count": 147,
   "metadata": {
    "collapsed": false
   },
   "outputs": [
    {
     "name": "stdout",
     "output_type": "stream",
     "text": [
      "{'pk': 'ts-1', 'ts': [[1, 2, 3], [3, 4, 4]]}\n"
     ]
    }
   ],
   "source": [
    "with open('j.t', 'r+') as f:\n",
    "    (json.load(f))"
   ]
  },
  {
   "cell_type": "code",
   "execution_count": 153,
   "metadata": {
    "collapsed": false
   },
   "outputs": [
    {
     "data": {
      "text/plain": [
       "{'blarg': '2', 'order': 1}"
      ]
     },
     "execution_count": 153,
     "metadata": {},
     "output_type": "execute_result"
    }
   ],
   "source": [
    "fields = ['order','blarg']\n",
    "{ f: j[f] for f in fields }"
   ]
  },
  {
   "cell_type": "code",
   "execution_count": 159,
   "metadata": {
    "collapsed": false
   },
   "outputs": [
    {
     "data": {
      "text/plain": [
       "{2, 3}"
      ]
     },
     "execution_count": 159,
     "metadata": {},
     "output_type": "execute_result"
    }
   ],
   "source": [
    "a = []\n",
    "a.append(set([1,2,3,4,5]))\n",
    "a.append(set([2,3,4]))\n",
    "a.append(set([2,3,5]))\n",
    "set.intersection(*a)\n"
   ]
  },
  {
   "cell_type": "code",
   "execution_count": 190,
   "metadata": {
    "collapsed": false
   },
   "outputs": [
    {
     "data": {
      "text/plain": [
       "[array([ 0.02667524,  0.2338643 ,  0.48612945,  0.59856598,  0.07958317,\n",
       "         0.30819474,  0.71691607,  0.86174325,  0.58733237,  0.10070384,\n",
       "         0.76793984,  0.66843796,  0.41117357,  0.09594135,  0.74754548,\n",
       "         0.80896985,  0.48040438,  0.96076317,  0.0888784 ,  0.59312498])]"
      ]
     },
     "execution_count": 190,
     "metadata": {},
     "output_type": "execute_result"
    }
   ],
   "source": [
    "rangee=[1,3]\n",
    "bpt1 = BPlusTree(5)\n",
    "\n",
    "l = [1,2,3,4,5]\n",
    "\n",
    "for item in l:\n",
    "    bpt1.insert(item, [np.random.rand(20)])\n",
    "\n",
    "r = rangee[0]\n",
    "bpt1.get(r)\n",
    "bpt\n",
    "    "
   ]
  },
  {
   "cell_type": "code",
   "execution_count": 195,
   "metadata": {
    "collapsed": false
   },
   "outputs": [
    {
     "ename": "TypeError",
     "evalue": "super(type, obj): obj must be an instance or subtype of type",
     "output_type": "error",
     "traceback": [
      "\u001b[0;31m---------------------------------------------------------------------------\u001b[0m",
      "\u001b[0;31mTypeError\u001b[0m                                 Traceback (most recent call last)",
      "\u001b[0;32m<ipython-input-195-c8fc6156c7f2>\u001b[0m in \u001b[0;36m<module>\u001b[0;34m()\u001b[0m\n\u001b[0;32m----> 1\u001b[0;31m \u001b[0mbpt1\u001b[0m\u001b[0;34m[\u001b[0m\u001b[0;36m2\u001b[0m\u001b[0;34m]\u001b[0m\u001b[0;34m\u001b[0m\u001b[0m\n\u001b[0m",
      "\u001b[0;32m<ipython-input-179-96ba754e3e06>\u001b[0m in \u001b[0;36mget\u001b[0;34m(self, key, default)\u001b[0m\n\u001b[1;32m    429\u001b[0m     \u001b[0;32mdef\u001b[0m \u001b[0mget\u001b[0m\u001b[0;34m(\u001b[0m\u001b[0mself\u001b[0m\u001b[0;34m,\u001b[0m \u001b[0mkey\u001b[0m\u001b[0;34m,\u001b[0m \u001b[0mdefault\u001b[0m\u001b[0;34m=\u001b[0m\u001b[0;32mNone\u001b[0m\u001b[0;34m)\u001b[0m\u001b[0;34m:\u001b[0m\u001b[0;34m\u001b[0m\u001b[0m\n\u001b[1;32m    430\u001b[0m         \u001b[0;32mtry\u001b[0m\u001b[0;34m:\u001b[0m\u001b[0;34m\u001b[0m\u001b[0m\n\u001b[0;32m--> 431\u001b[0;31m             \u001b[0;32mreturn\u001b[0m \u001b[0mnext\u001b[0m\u001b[0;34m(\u001b[0m\u001b[0mself\u001b[0m\u001b[0;34m.\u001b[0m\u001b[0m_get\u001b[0m\u001b[0;34m(\u001b[0m\u001b[0mkey\u001b[0m\u001b[0;34m)\u001b[0m\u001b[0;34m)\u001b[0m\u001b[0;34m\u001b[0m\u001b[0m\n\u001b[0m\u001b[1;32m    432\u001b[0m         \u001b[0;32mexcept\u001b[0m \u001b[0mStopIteration\u001b[0m\u001b[0;34m:\u001b[0m\u001b[0;34m\u001b[0m\u001b[0m\n\u001b[1;32m    433\u001b[0m             \u001b[0;32mreturn\u001b[0m \u001b[0mdefault\u001b[0m\u001b[0;34m\u001b[0m\u001b[0m\n",
      "\u001b[0;32m<ipython-input-179-96ba754e3e06>\u001b[0m in \u001b[0;36m_get\u001b[0;34m(self, key)\u001b[0m\n\u001b[1;32m    401\u001b[0m \u001b[0;34m\u001b[0m\u001b[0m\n\u001b[1;32m    402\u001b[0m     \u001b[0;32mdef\u001b[0m \u001b[0m_get\u001b[0m\u001b[0;34m(\u001b[0m\u001b[0mself\u001b[0m\u001b[0;34m,\u001b[0m \u001b[0mkey\u001b[0m\u001b[0;34m)\u001b[0m\u001b[0;34m:\u001b[0m\u001b[0;34m\u001b[0m\u001b[0m\n\u001b[0;32m--> 403\u001b[0;31m         \u001b[0mnode\u001b[0m\u001b[0;34m,\u001b[0m \u001b[0mindex\u001b[0m \u001b[0;34m=\u001b[0m \u001b[0mself\u001b[0m\u001b[0;34m.\u001b[0m\u001b[0m_path_to\u001b[0m\u001b[0;34m(\u001b[0m\u001b[0mkey\u001b[0m\u001b[0;34m)\u001b[0m\u001b[0;34m[\u001b[0m\u001b[0;34m-\u001b[0m\u001b[0;36m1\u001b[0m\u001b[0;34m]\u001b[0m\u001b[0;34m\u001b[0m\u001b[0m\n\u001b[0m\u001b[1;32m    404\u001b[0m \u001b[0;34m\u001b[0m\u001b[0m\n\u001b[1;32m    405\u001b[0m         \u001b[0;32mif\u001b[0m \u001b[0mindex\u001b[0m \u001b[0;34m==\u001b[0m \u001b[0mlen\u001b[0m\u001b[0;34m(\u001b[0m\u001b[0mnode\u001b[0m\u001b[0;34m.\u001b[0m\u001b[0mcontents\u001b[0m\u001b[0;34m)\u001b[0m\u001b[0;34m:\u001b[0m\u001b[0;34m\u001b[0m\u001b[0m\n",
      "\u001b[0;32m<ipython-input-179-96ba754e3e06>\u001b[0m in \u001b[0;36m_path_to\u001b[0;34m(self, item)\u001b[0m\n\u001b[1;32m    419\u001b[0m \u001b[0;34m\u001b[0m\u001b[0m\n\u001b[1;32m    420\u001b[0m     \u001b[0;32mdef\u001b[0m \u001b[0m_path_to\u001b[0m\u001b[0;34m(\u001b[0m\u001b[0mself\u001b[0m\u001b[0;34m,\u001b[0m \u001b[0mitem\u001b[0m\u001b[0;34m)\u001b[0m\u001b[0;34m:\u001b[0m\u001b[0;34m\u001b[0m\u001b[0m\n\u001b[0;32m--> 421\u001b[0;31m         \u001b[0mpath\u001b[0m \u001b[0;34m=\u001b[0m \u001b[0msuper\u001b[0m\u001b[0;34m(\u001b[0m\u001b[0mBPlusTree\u001b[0m\u001b[0;34m,\u001b[0m \u001b[0mself\u001b[0m\u001b[0;34m)\u001b[0m\u001b[0;34m.\u001b[0m\u001b[0m_path_to\u001b[0m\u001b[0;34m(\u001b[0m\u001b[0mitem\u001b[0m\u001b[0;34m)\u001b[0m\u001b[0;34m\u001b[0m\u001b[0m\n\u001b[0m\u001b[1;32m    422\u001b[0m         \u001b[0mnode\u001b[0m\u001b[0;34m,\u001b[0m \u001b[0mindex\u001b[0m \u001b[0;34m=\u001b[0m \u001b[0mpath\u001b[0m\u001b[0;34m[\u001b[0m\u001b[0;34m-\u001b[0m\u001b[0;36m1\u001b[0m\u001b[0;34m]\u001b[0m\u001b[0;34m\u001b[0m\u001b[0m\n\u001b[1;32m    423\u001b[0m         \u001b[0;32mwhile\u001b[0m \u001b[0mhasattr\u001b[0m\u001b[0;34m(\u001b[0m\u001b[0mnode\u001b[0m\u001b[0;34m,\u001b[0m \u001b[0;34m\"children\"\u001b[0m\u001b[0;34m)\u001b[0m\u001b[0;34m:\u001b[0m\u001b[0;34m\u001b[0m\u001b[0m\n",
      "\u001b[0;31mTypeError\u001b[0m: super(type, obj): obj must be an instance or subtype of type"
     ]
    }
   ],
   "source": []
  },
  {
   "cell_type": "code",
   "execution_count": null,
   "metadata": {
    "collapsed": true
   },
   "outputs": [],
   "source": [
    "bpt[]"
   ]
  }
 ],
 "metadata": {
  "kernelspec": {
   "display_name": "Python 3",
   "language": "python",
   "name": "python3"
  },
  "language_info": {
   "codemirror_mode": {
    "name": "ipython",
    "version": 3
   },
   "file_extension": ".py",
   "mimetype": "text/x-python",
   "name": "python",
   "nbconvert_exporter": "python",
   "pygments_lexer": "ipython3",
   "version": "3.5.1"
  }
 },
 "nbformat": 4,
 "nbformat_minor": 0
}
